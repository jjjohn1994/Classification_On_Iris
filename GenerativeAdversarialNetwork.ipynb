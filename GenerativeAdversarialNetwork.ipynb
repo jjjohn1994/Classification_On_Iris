{
  "nbformat": 4,
  "nbformat_minor": 0,
  "metadata": {
    "colab": {
      "name": "GenerativeAdversarialNetwork.ipynb",
      "provenance": [],
      "collapsed_sections": [],
      "authorship_tag": "ABX9TyPYrgN9AqGy2pTrH4y7LGbT",
      "include_colab_link": true
    },
    "kernelspec": {
      "name": "python3",
      "display_name": "Python 3"
    },
    "accelerator": "GPU"
  },
  "cells": [
    {
      "cell_type": "markdown",
      "metadata": {
        "id": "view-in-github",
        "colab_type": "text"
      },
      "source": [
        "<a href=\"https://colab.research.google.com/github/jjjohn1994/Classification_On_Iris/blob/master/GenerativeAdversarialNetwork.ipynb\" target=\"_parent\"><img src=\"https://colab.research.google.com/assets/colab-badge.svg\" alt=\"Open In Colab\"/></a>"
      ]
    },
    {
      "cell_type": "code",
      "metadata": {
        "id": "fHXUX0IRKczV",
        "colab_type": "code",
        "outputId": "953ff532-e5d3-42c6-9949-767c7af67c44",
        "colab": {
          "base_uri": "https://localhost:8080/",
          "height": 35
        }
      },
      "source": [
        "import tensorflow as tf\n",
        "print(tf.__version__)"
      ],
      "execution_count": 0,
      "outputs": [
        {
          "output_type": "stream",
          "text": [
            "2.2.0\n"
          ],
          "name": "stdout"
        }
      ]
    },
    {
      "cell_type": "code",
      "metadata": {
        "id": "Dc8GGMEUK37E",
        "colab_type": "code",
        "outputId": "6fca120f-acfd-426c-a442-b504ad9d1934",
        "colab": {
          "base_uri": "https://localhost:8080/",
          "height": 107
        }
      },
      "source": [
        "print(\"GPU Available:\", tf.test.is_gpu_available())"
      ],
      "execution_count": 0,
      "outputs": [
        {
          "output_type": "stream",
          "text": [
            "WARNING:tensorflow:From <ipython-input-3-3c7edf20f452>:1: is_gpu_available (from tensorflow.python.framework.test_util) is deprecated and will be removed in a future version.\n",
            "Instructions for updating:\n",
            "Use `tf.config.list_physical_devices('GPU')` instead.\n",
            "GPU Available: True\n"
          ],
          "name": "stdout"
        }
      ]
    },
    {
      "cell_type": "code",
      "metadata": {
        "id": "o6URp7j5LG0r",
        "colab_type": "code",
        "outputId": "a115e8bf-6fc2-434e-e0f6-179129dc0851",
        "colab": {
          "base_uri": "https://localhost:8080/",
          "height": 35
        }
      },
      "source": [
        "if tf.test.is_gpu_available():\n",
        "  device_name = tf.test.gpu_device_name()\n",
        "else:\n",
        "  device_name = '/CPU:0'\n",
        "print(device_name)"
      ],
      "execution_count": 0,
      "outputs": [
        {
          "output_type": "stream",
          "text": [
            "/device:GPU:0\n"
          ],
          "name": "stdout"
        }
      ]
    },
    {
      "cell_type": "code",
      "metadata": {
        "id": "2jsZDPAwLWQ3",
        "colab_type": "code",
        "outputId": "f79a893f-5fa3-4517-94f5-77b5370746cd",
        "colab": {
          "base_uri": "https://localhost:8080/",
          "height": 124
        }
      },
      "source": [
        "from google.colab import drive\n",
        "drive.mount('/content/drive')"
      ],
      "execution_count": 0,
      "outputs": [
        {
          "output_type": "stream",
          "text": [
            "Go to this URL in a browser: https://accounts.google.com/o/oauth2/auth?client_id=947318989803-6bn6qk8qdgf4n4g3pfee6491hc0brc4i.apps.googleusercontent.com&redirect_uri=urn%3aietf%3awg%3aoauth%3a2.0%3aoob&response_type=code&scope=email%20https%3a%2f%2fwww.googleapis.com%2fauth%2fdocs.test%20https%3a%2f%2fwww.googleapis.com%2fauth%2fdrive%20https%3a%2f%2fwww.googleapis.com%2fauth%2fdrive.photos.readonly%20https%3a%2f%2fwww.googleapis.com%2fauth%2fpeopleapi.readonly\n",
            "\n",
            "Enter your authorization code:\n",
            "··········\n",
            "Mounted at /content/drive\n"
          ],
          "name": "stdout"
        }
      ]
    },
    {
      "cell_type": "code",
      "metadata": {
        "id": "lHHBcuGpLnOq",
        "colab_type": "code",
        "colab": {}
      },
      "source": [
        "import tensorflow as tf\n",
        "import tensorflow_datasets as tfds\n",
        "import numpy as np\n",
        "import matplotlib.pyplot as plt\n",
        "## define a function for the generator:\n",
        "def make_generator_network(\n",
        "    num_hidden_layers=1,\n",
        "    num_hidden_units=100,\n",
        "    num_output_units=784):\n",
        "  \n",
        "  model = tf.keras.Sequential()\n",
        "  for i in range(num_hidden_layers):\n",
        "    model.add(\n",
        "        tf.keras.layers.Dense(\n",
        "            units=num_hidden_units, use_bias=False))\n",
        "    model.add(tf.keras.layers.LeakyReLU())\n",
        "    \n",
        "  model.add(\n",
        "    tf.keras.layers.Dense(\n",
        "        units=num_output_units, activation='tanh'))\n",
        "  return model\n",
        "\n",
        "## define a function for discriminator:\n",
        "def make_discriminator_network(\n",
        "    num_hidden_layers=1,\n",
        "    num_hidden_units=100,\n",
        "    num_output_units=1):\n",
        "  \n",
        "  model = tf.keras.Sequential()\n",
        "  for i in range(num_hidden_layers):\n",
        "    model.add(tf.keras.layers.Dense(units=num_hidden_units))\n",
        "    model.add(tf.keras.layers.LeakyReLU())\n",
        "    model.add(tf.keras.layers.Dropout(rate=0.5))\n",
        "\n",
        "  model.add(\n",
        "      tf.keras.layers.Dense(\n",
        "          units=num_output_units, activation=None))\n",
        "  return model"
      ],
      "execution_count": 0,
      "outputs": []
    },
    {
      "cell_type": "code",
      "metadata": {
        "id": "-2FSArBnQIAn",
        "colab_type": "code",
        "outputId": "a5606b25-6724-4313-b965-16d4baac63fa",
        "colab": {
          "base_uri": "https://localhost:8080/",
          "height": 260
        }
      },
      "source": [
        "# Initialize two networks\n",
        "# MNIST dataset - 28 x 28 pixels, size of input vector, z, to be 20\n",
        "image_size = (28, 28)\n",
        "z_size = 20\n",
        "mode_z = 'uniform' # 'uniform' vs. 'normal'\n",
        "gen_hidden_layers = 1\n",
        "gen_hidden_size = 100\n",
        "disc_hidden_layers = 1\n",
        "disc_hidden_size = 100\n",
        "tf.random.set_seed(1)\n",
        "gen_model = make_generator_network(\n",
        "    num_hidden_layers=gen_hidden_layers,\n",
        "    num_hidden_units=gen_hidden_size,\n",
        "    num_output_units=np.prod(image_size))\n",
        "gen_model.build(input_shape=(None, z_size))\n",
        "gen_model.summary()"
      ],
      "execution_count": 0,
      "outputs": [
        {
          "output_type": "stream",
          "text": [
            "Model: \"sequential_6\"\n",
            "_________________________________________________________________\n",
            "Layer (type)                 Output Shape              Param #   \n",
            "=================================================================\n",
            "dense_6 (Dense)              multiple                  2000      \n",
            "_________________________________________________________________\n",
            "leaky_re_lu_16 (LeakyReLU)   multiple                  0         \n",
            "_________________________________________________________________\n",
            "dense_7 (Dense)              multiple                  79184     \n",
            "=================================================================\n",
            "Total params: 81,184\n",
            "Trainable params: 81,184\n",
            "Non-trainable params: 0\n",
            "_________________________________________________________________\n"
          ],
          "name": "stdout"
        }
      ]
    },
    {
      "cell_type": "code",
      "metadata": {
        "id": "3VyTE9WPRbXP",
        "colab_type": "code",
        "outputId": "c6a5ba1e-f4b1-4b47-e688-9b868a275b8c",
        "colab": {
          "base_uri": "https://localhost:8080/",
          "height": 295
        }
      },
      "source": [
        "disc_model = make_discriminator_network(\n",
        "    num_hidden_layers=disc_hidden_layers,\n",
        "    num_hidden_units=disc_hidden_size)\n",
        "disc_model.build(input_shape=(None, np.prod(image_size)))\n",
        "disc_model.summary()"
      ],
      "execution_count": 0,
      "outputs": [
        {
          "output_type": "stream",
          "text": [
            "Model: \"sequential_7\"\n",
            "_________________________________________________________________\n",
            "Layer (type)                 Output Shape              Param #   \n",
            "=================================================================\n",
            "dense_8 (Dense)              multiple                  78500     \n",
            "_________________________________________________________________\n",
            "leaky_re_lu_17 (LeakyReLU)   multiple                  0         \n",
            "_________________________________________________________________\n",
            "dropout_5 (Dropout)          multiple                  0         \n",
            "_________________________________________________________________\n",
            "dense_9 (Dense)              multiple                  101       \n",
            "=================================================================\n",
            "Total params: 78,601\n",
            "Trainable params: 78,601\n",
            "Non-trainable params: 0\n",
            "_________________________________________________________________\n"
          ],
          "name": "stdout"
        }
      ]
    },
    {
      "cell_type": "code",
      "metadata": {
        "id": "Dz-ajeRISK6R",
        "colab_type": "code",
        "colab": {}
      },
      "source": [
        "# Defining the training dataset\n",
        "mnist_bldr = tfds.builder(\"mnist\")\n",
        "mnist_bldr.download_and_prepare()\n",
        "mnist = mnist_bldr.as_dataset(shuffle_files=False)\n",
        "def preprocess(ex, mode='uniform'):\n",
        "  image = ex['image']\n",
        "  image = tf.image.convert_image_dtype(image, tf.float32)\n",
        "  image = tf.reshape(image, [-1])\n",
        "  image = image * 2 - 1.0\n",
        "  if mode == 'uniform':\n",
        "    input_z = tf.random.uniform(\n",
        "        shape=(z_size,), minval=-1.0, maxval=1.0)\n",
        "  elif mode == 'normal':\n",
        "    input_z = tf.random.normal(shape=(z_size,))\n",
        "  return input_z, image\n",
        "mnist_trainset = mnist['train']\n",
        "mnist_trainset = mnist_trainset.map(preprocess)"
      ],
      "execution_count": 0,
      "outputs": []
    },
    {
      "cell_type": "code",
      "metadata": {
        "id": "Ql5OK8cSWHds",
        "colab_type": "code",
        "outputId": "c0858c5c-a5d0-4357-8060-d0ca65af66a3",
        "colab": {
          "base_uri": "https://localhost:8080/",
          "height": 52
        }
      },
      "source": [
        "mnist_trainset = mnist_trainset.batch(32, drop_remainder=True)\n",
        "input_z, input_real = next(iter(mnist_trainset))\n",
        "print('input-z -- shape: ', input_z.shape)\n",
        "print('input-real -- shape: ', input_real.shape)"
      ],
      "execution_count": 0,
      "outputs": [
        {
          "output_type": "stream",
          "text": [
            "input-z -- shape:  (32, 20)\n",
            "input-real -- shape:  (32, 784)\n"
          ],
          "name": "stdout"
        }
      ]
    },
    {
      "cell_type": "code",
      "metadata": {
        "id": "YdyS5_Yi3QXE",
        "colab_type": "code",
        "outputId": "82c34b83-1057-4fbd-ef10-f6e773d8cf3c",
        "colab": {
          "base_uri": "https://localhost:8080/",
          "height": 35
        }
      },
      "source": [
        "# Feed batch of input, z, vectors to the generator and get its output\n",
        "g_output = gen_model(input_z)\n",
        "print('Output of G -- shape:', g_output.shape)"
      ],
      "execution_count": 0,
      "outputs": [
        {
          "output_type": "stream",
          "text": [
            "Output of G -- shape: (32, 784)\n"
          ],
          "name": "stdout"
        }
      ]
    },
    {
      "cell_type": "code",
      "metadata": {
        "id": "V6jEHAqb3672",
        "colab_type": "code",
        "outputId": "9c3b85bf-a548-46e9-abd6-341d47fbec42",
        "colab": {
          "base_uri": "https://localhost:8080/",
          "height": 52
        }
      },
      "source": [
        "# Batch of fake examples fed to the discriminator model to get the logits for\n",
        "# batch of fake examples  - d_logits_fake\n",
        "d_logits_real = disc_model(input_real)\n",
        "d_logits_fake = disc_model(g_output)\n",
        "print('Disc. (real) -- shape:', d_logits_real.shape)\n",
        "print('Disc. (fake) -- shape:', d_logits_fake.shape)"
      ],
      "execution_count": 0,
      "outputs": [
        {
          "output_type": "stream",
          "text": [
            "Disc. (real) -- shape: (32, 1)\n",
            "Disc. (fake) -- shape: (32, 1)\n"
          ],
          "name": "stdout"
        }
      ]
    },
    {
      "cell_type": "code",
      "metadata": {
        "id": "j7mYKmoR4fhi",
        "colab_type": "code",
        "outputId": "f67eb09e-4648-4d50-927f-b292c4c9e44b",
        "colab": {
          "base_uri": "https://localhost:8080/",
          "height": 35
        }
      },
      "source": [
        "# BinaryCrossEntropy to calculate loss for generator & discriminator associated with batches \n",
        "loss_fn = tf.keras.losses.BinaryCrossentropy(from_logits=True)\n",
        "## Loss for the Generator\n",
        "g_labels_real =tf.ones_like(d_logits_fake)\n",
        "g_loss = loss_fn(y_true=g_labels_real, y_pred=d_logits_fake)\n",
        "print('Generator Loss: {:.4f}'.format(g_loss))"
      ],
      "execution_count": 0,
      "outputs": [
        {
          "output_type": "stream",
          "text": [
            "Generator Loss: 0.7355\n"
          ],
          "name": "stdout"
        }
      ]
    },
    {
      "cell_type": "code",
      "metadata": {
        "id": "AIhm17-e5kh5",
        "colab_type": "code",
        "outputId": "89468424-d10c-475f-e0b1-ef1fefb3209a",
        "colab": {
          "base_uri": "https://localhost:8080/",
          "height": 35
        }
      },
      "source": [
        "## Loss for the Discriminator\n",
        "d_labels_real = tf.ones_like(d_logits_real)\n",
        "d_labels_fake = tf.zeros_like(d_logits_fake)\n",
        "d_loss_real = loss_fn(y_true=d_labels_real, \n",
        "                      y_pred=d_logits_real)\n",
        "d_loss_fake = loss_fn(y_true=d_labels_fake,\n",
        "                      y_pred=d_logits_fake)\n",
        "print('Discriminator Losses: Real {:.4f} Fake {:.4f}'\n",
        "        .format(d_loss_real.numpy(), d_loss_fake.numpy()))"
      ],
      "execution_count": 0,
      "outputs": [
        {
          "output_type": "stream",
          "text": [
            "Discriminator Losses: Real 1.5073 Fake 0.6583\n"
          ],
          "name": "stdout"
        }
      ]
    },
    {
      "cell_type": "code",
      "metadata": {
        "id": "uRlhtTUe6f87",
        "colab_type": "code",
        "outputId": "4e05c12d-8763-4ef4-a3d5-91686cdb8f0f",
        "colab": {
          "base_uri": "https://localhost:8080/",
          "height": 1000
        }
      },
      "source": [
        "import time\n",
        "num_epochs = 100\n",
        "batch_size = 64\n",
        "image_size = (28, 28)\n",
        "z_size = 20\n",
        "mode_z = 'uniform'\n",
        "gen_hidden_layers = 1\n",
        "gen_hidden_size = 100\n",
        "disc_hidden_layers = 1\n",
        "disc_hidden_size = 100\n",
        "\n",
        "tf.random.set_seed(1)\n",
        "np.random.seed(1)\n",
        "\n",
        "\n",
        "if mode_z == 'uniform':\n",
        "    fixed_z = tf.random.uniform(\n",
        "        shape=(batch_size, z_size),\n",
        "        minval=-1, maxval=1)\n",
        "elif mode_z == 'normal':\n",
        "    fixed_z = tf.random.normal(\n",
        "        shape=(batch_size, z_size))\n",
        "\n",
        "\n",
        "def create_samples(g_model, input_z):\n",
        "    g_output = g_model(input_z, training=False)\n",
        "    images = tf.reshape(g_output, (batch_size, *image_size))    \n",
        "    return (images+1)/2.0\n",
        "\n",
        "## Set-up the dataset\n",
        "mnist_trainset = mnist['train']\n",
        "mnist_trainset = mnist_trainset.map(\n",
        "    lambda ex: preprocess(ex, mode=mode_z))\n",
        "\n",
        "mnist_trainset = mnist_trainset.shuffle(10000)\n",
        "mnist_trainset = mnist_trainset.batch(\n",
        "    batch_size, drop_remainder=True)\n",
        "\n",
        "## Set-up the model\n",
        "with tf.device(device_name):\n",
        "    gen_model = make_generator_network(\n",
        "        num_hidden_layers=gen_hidden_layers, \n",
        "        num_hidden_units=gen_hidden_size,\n",
        "        num_output_units=np.prod(image_size))\n",
        "    gen_model.build(input_shape=(None, z_size))\n",
        "\n",
        "    disc_model = make_discriminator_network(\n",
        "        num_hidden_layers=disc_hidden_layers,\n",
        "        num_hidden_units=disc_hidden_size)\n",
        "    disc_model.build(input_shape=(None, np.prod(image_size)))\n",
        "\n",
        "## Loss function and optimizers:\n",
        "loss_fn = tf.keras.losses.BinaryCrossentropy(from_logits=True)\n",
        "g_optimizer = tf.keras.optimizers.Adam()\n",
        "d_optimizer = tf.keras.optimizers.Adam()\n",
        "\n",
        "all_losses = []\n",
        "all_d_vals = []\n",
        "epoch_samples = []\n",
        "\n",
        "start_time = time.time()\n",
        "for epoch in range(1, num_epochs+1):\n",
        "    epoch_losses, epoch_d_vals = [], []\n",
        "    for i,(input_z,input_real) in enumerate(mnist_trainset):\n",
        "        \n",
        "        ## Compute generator's loss\n",
        "        with tf.GradientTape() as g_tape:\n",
        "            g_output = gen_model(input_z)\n",
        "            d_logits_fake = disc_model(g_output, training=True)\n",
        "            labels_real = tf.ones_like(d_logits_fake)\n",
        "            g_loss = loss_fn(y_true=labels_real, y_pred=d_logits_fake)\n",
        "            \n",
        "        g_grads = g_tape.gradient(g_loss, gen_model.trainable_variables)\n",
        "        g_optimizer.apply_gradients(\n",
        "            grads_and_vars=zip(g_grads, gen_model.trainable_variables))\n",
        "\n",
        "        ## Compute discriminator's loss\n",
        "        with tf.GradientTape() as d_tape:\n",
        "            d_logits_real = disc_model(input_real, training=True)\n",
        "\n",
        "            d_labels_real = tf.ones_like(d_logits_real)\n",
        "            \n",
        "            d_loss_real = loss_fn(\n",
        "                y_true=d_labels_real, y_pred=d_logits_real)\n",
        "\n",
        "            d_logits_fake = disc_model(g_output, training=True)\n",
        "            d_labels_fake = tf.zeros_like(d_logits_fake)\n",
        "\n",
        "            d_loss_fake = loss_fn(\n",
        "                y_true=d_labels_fake, y_pred=d_logits_fake)\n",
        "\n",
        "            d_loss = d_loss_real + d_loss_fake\n",
        "\n",
        "        ## Compute the gradients of d_loss\n",
        "        d_grads = d_tape.gradient(d_loss, disc_model.trainable_variables)\n",
        "        \n",
        "        ## Optimization: Apply the gradients\n",
        "        d_optimizer.apply_gradients(\n",
        "            grads_and_vars=zip(d_grads, disc_model.trainable_variables))\n",
        "                           \n",
        "        epoch_losses.append(\n",
        "            (g_loss.numpy(), d_loss.numpy(), \n",
        "             d_loss_real.numpy(), d_loss_fake.numpy()))\n",
        "        \n",
        "        d_probs_real = tf.reduce_mean(tf.sigmoid(d_logits_real))\n",
        "        d_probs_fake = tf.reduce_mean(tf.sigmoid(d_logits_fake))\n",
        "        epoch_d_vals.append((d_probs_real.numpy(), d_probs_fake.numpy()))        \n",
        "    all_losses.append(epoch_losses)\n",
        "    all_d_vals.append(epoch_d_vals)\n",
        "    print(\n",
        "        'Epoch {:03d} | ET {:.2f} min | Avg Losses >>'\n",
        "        ' G/D {:.4f}/{:.4f} [D-Real: {:.4f} D-Fake: {:.4f}]'\n",
        "        .format(\n",
        "            epoch, (time.time() - start_time)/60, \n",
        "            *list(np.mean(all_losses[-1], axis=0))))\n",
        "    epoch_samples.append(\n",
        "        create_samples(gen_model, fixed_z).numpy())"
      ],
      "execution_count": 0,
      "outputs": [
        {
          "output_type": "stream",
          "text": [
            "Epoch 001 | ET 0.40 min | Avg Losses >> G/D 2.8645/0.2895 [D-Real: 0.0334 D-Fake: 0.2561]\n",
            "Epoch 002 | ET 0.81 min | Avg Losses >> G/D 5.1811/0.3472 [D-Real: 0.1147 D-Fake: 0.2324]\n",
            "Epoch 003 | ET 1.23 min | Avg Losses >> G/D 3.3052/0.6802 [D-Real: 0.3078 D-Fake: 0.3724]\n",
            "Epoch 004 | ET 1.63 min | Avg Losses >> G/D 2.1284/0.8637 [D-Real: 0.4436 D-Fake: 0.4201]\n",
            "Epoch 005 | ET 2.04 min | Avg Losses >> G/D 1.9812/0.8577 [D-Real: 0.4628 D-Fake: 0.3949]\n",
            "Epoch 006 | ET 2.46 min | Avg Losses >> G/D 1.6855/0.9354 [D-Real: 0.5048 D-Fake: 0.4305]\n",
            "Epoch 007 | ET 2.86 min | Avg Losses >> G/D 1.6167/0.9929 [D-Real: 0.5323 D-Fake: 0.4607]\n",
            "Epoch 008 | ET 3.28 min | Avg Losses >> G/D 1.5457/0.9600 [D-Real: 0.5257 D-Fake: 0.4343]\n",
            "Epoch 009 | ET 3.70 min | Avg Losses >> G/D 1.5615/0.9788 [D-Real: 0.5392 D-Fake: 0.4396]\n",
            "Epoch 010 | ET 4.11 min | Avg Losses >> G/D 1.3478/1.0833 [D-Real: 0.5782 D-Fake: 0.5051]\n",
            "Epoch 011 | ET 4.53 min | Avg Losses >> G/D 1.2838/1.1384 [D-Real: 0.5950 D-Fake: 0.5434]\n",
            "Epoch 012 | ET 4.98 min | Avg Losses >> G/D 1.2699/1.1592 [D-Real: 0.5971 D-Fake: 0.5621]\n",
            "Epoch 013 | ET 5.41 min | Avg Losses >> G/D 1.1970/1.1357 [D-Real: 0.6024 D-Fake: 0.5333]\n",
            "Epoch 014 | ET 5.83 min | Avg Losses >> G/D 1.3061/1.1067 [D-Real: 0.5806 D-Fake: 0.5261]\n",
            "Epoch 015 | ET 6.25 min | Avg Losses >> G/D 1.2823/1.1415 [D-Real: 0.5918 D-Fake: 0.5498]\n",
            "Epoch 016 | ET 6.66 min | Avg Losses >> G/D 1.2231/1.1475 [D-Real: 0.5969 D-Fake: 0.5506]\n",
            "Epoch 017 | ET 7.06 min | Avg Losses >> G/D 1.2740/1.1295 [D-Real: 0.5877 D-Fake: 0.5417]\n",
            "Epoch 018 | ET 7.48 min | Avg Losses >> G/D 1.2029/1.1636 [D-Real: 0.6042 D-Fake: 0.5594]\n",
            "Epoch 019 | ET 7.90 min | Avg Losses >> G/D 1.0760/1.2110 [D-Real: 0.6213 D-Fake: 0.5897]\n",
            "Epoch 020 | ET 8.32 min | Avg Losses >> G/D 1.1345/1.1885 [D-Real: 0.6118 D-Fake: 0.5766]\n",
            "Epoch 021 | ET 8.74 min | Avg Losses >> G/D 1.1397/1.2023 [D-Real: 0.6150 D-Fake: 0.5873]\n",
            "Epoch 022 | ET 9.15 min | Avg Losses >> G/D 1.1153/1.1945 [D-Real: 0.6134 D-Fake: 0.5811]\n",
            "Epoch 023 | ET 9.56 min | Avg Losses >> G/D 1.0631/1.2189 [D-Real: 0.6239 D-Fake: 0.5950]\n",
            "Epoch 024 | ET 9.97 min | Avg Losses >> G/D 1.0772/1.2116 [D-Real: 0.6161 D-Fake: 0.5954]\n",
            "Epoch 025 | ET 10.38 min | Avg Losses >> G/D 1.0612/1.2404 [D-Real: 0.6289 D-Fake: 0.6115]\n",
            "Epoch 026 | ET 10.80 min | Avg Losses >> G/D 1.0778/1.2574 [D-Real: 0.6343 D-Fake: 0.6231]\n",
            "Epoch 027 | ET 11.21 min | Avg Losses >> G/D 1.0196/1.2473 [D-Real: 0.6318 D-Fake: 0.6155]\n",
            "Epoch 028 | ET 11.62 min | Avg Losses >> G/D 1.0130/1.2374 [D-Real: 0.6319 D-Fake: 0.6055]\n",
            "Epoch 029 | ET 12.03 min | Avg Losses >> G/D 1.0240/1.2578 [D-Real: 0.6342 D-Fake: 0.6236]\n",
            "Epoch 030 | ET 12.44 min | Avg Losses >> G/D 1.0498/1.2625 [D-Real: 0.6338 D-Fake: 0.6287]\n",
            "Epoch 031 | ET 12.86 min | Avg Losses >> G/D 1.0206/1.2485 [D-Real: 0.6322 D-Fake: 0.6163]\n",
            "Epoch 032 | ET 13.27 min | Avg Losses >> G/D 1.0150/1.2404 [D-Real: 0.6290 D-Fake: 0.6114]\n",
            "Epoch 033 | ET 13.67 min | Avg Losses >> G/D 1.0088/1.2485 [D-Real: 0.6334 D-Fake: 0.6151]\n",
            "Epoch 034 | ET 14.10 min | Avg Losses >> G/D 1.0018/1.2536 [D-Real: 0.6332 D-Fake: 0.6204]\n",
            "Epoch 035 | ET 14.51 min | Avg Losses >> G/D 0.9960/1.2637 [D-Real: 0.6377 D-Fake: 0.6260]\n",
            "Epoch 036 | ET 14.93 min | Avg Losses >> G/D 1.0316/1.2620 [D-Real: 0.6353 D-Fake: 0.6267]\n",
            "Epoch 037 | ET 15.34 min | Avg Losses >> G/D 1.0338/1.2575 [D-Real: 0.6350 D-Fake: 0.6225]\n",
            "Epoch 038 | ET 15.75 min | Avg Losses >> G/D 0.9832/1.2742 [D-Real: 0.6424 D-Fake: 0.6318]\n",
            "Epoch 039 | ET 16.16 min | Avg Losses >> G/D 0.9656/1.2927 [D-Real: 0.6517 D-Fake: 0.6410]\n",
            "Epoch 040 | ET 16.57 min | Avg Losses >> G/D 0.9695/1.2828 [D-Real: 0.6443 D-Fake: 0.6385]\n",
            "Epoch 041 | ET 16.98 min | Avg Losses >> G/D 0.9406/1.2920 [D-Real: 0.6495 D-Fake: 0.6425]\n",
            "Epoch 042 | ET 17.38 min | Avg Losses >> G/D 0.9790/1.2918 [D-Real: 0.6483 D-Fake: 0.6435]\n",
            "Epoch 043 | ET 17.80 min | Avg Losses >> G/D 1.0076/1.2832 [D-Real: 0.6422 D-Fake: 0.6409]\n",
            "Epoch 044 | ET 18.21 min | Avg Losses >> G/D 0.9402/1.2950 [D-Real: 0.6504 D-Fake: 0.6446]\n",
            "Epoch 045 | ET 18.62 min | Avg Losses >> G/D 0.9225/1.3017 [D-Real: 0.6538 D-Fake: 0.6479]\n",
            "Epoch 046 | ET 19.03 min | Avg Losses >> G/D 0.9980/1.2788 [D-Real: 0.6432 D-Fake: 0.6356]\n",
            "Epoch 047 | ET 19.44 min | Avg Losses >> G/D 0.9932/1.2806 [D-Real: 0.6435 D-Fake: 0.6371]\n",
            "Epoch 048 | ET 19.85 min | Avg Losses >> G/D 0.8998/1.3076 [D-Real: 0.6597 D-Fake: 0.6479]\n",
            "Epoch 049 | ET 20.28 min | Avg Losses >> G/D 0.9386/1.3029 [D-Real: 0.6534 D-Fake: 0.6495]\n",
            "Epoch 050 | ET 20.68 min | Avg Losses >> G/D 1.0117/1.2820 [D-Real: 0.6437 D-Fake: 0.6383]\n",
            "Epoch 051 | ET 21.09 min | Avg Losses >> G/D 0.9296/1.2945 [D-Real: 0.6527 D-Fake: 0.6418]\n",
            "Epoch 052 | ET 21.51 min | Avg Losses >> G/D 0.8766/1.3133 [D-Real: 0.6611 D-Fake: 0.6523]\n",
            "Epoch 053 | ET 21.94 min | Avg Losses >> G/D 0.9632/1.2928 [D-Real: 0.6473 D-Fake: 0.6455]\n",
            "Epoch 054 | ET 22.36 min | Avg Losses >> G/D 1.0052/1.2793 [D-Real: 0.6432 D-Fake: 0.6360]\n",
            "Epoch 055 | ET 22.77 min | Avg Losses >> G/D 0.9329/1.2914 [D-Real: 0.6503 D-Fake: 0.6410]\n",
            "Epoch 056 | ET 23.20 min | Avg Losses >> G/D 0.9009/1.3131 [D-Real: 0.6608 D-Fake: 0.6524]\n",
            "Epoch 057 | ET 23.61 min | Avg Losses >> G/D 0.9525/1.2957 [D-Real: 0.6507 D-Fake: 0.6451]\n",
            "Epoch 058 | ET 24.03 min | Avg Losses >> G/D 0.9716/1.2827 [D-Real: 0.6419 D-Fake: 0.6408]\n",
            "Epoch 059 | ET 24.45 min | Avg Losses >> G/D 0.9296/1.2925 [D-Real: 0.6517 D-Fake: 0.6408]\n",
            "Epoch 060 | ET 24.85 min | Avg Losses >> G/D 0.9240/1.3035 [D-Real: 0.6548 D-Fake: 0.6487]\n",
            "Epoch 061 | ET 25.26 min | Avg Losses >> G/D 0.9666/1.2919 [D-Real: 0.6490 D-Fake: 0.6429]\n",
            "Epoch 062 | ET 25.67 min | Avg Losses >> G/D 0.9030/1.3098 [D-Real: 0.6603 D-Fake: 0.6495]\n",
            "Epoch 063 | ET 26.08 min | Avg Losses >> G/D 0.9255/1.3081 [D-Real: 0.6555 D-Fake: 0.6526]\n",
            "Epoch 064 | ET 26.50 min | Avg Losses >> G/D 0.9415/1.2963 [D-Real: 0.6521 D-Fake: 0.6442]\n",
            "Epoch 065 | ET 26.90 min | Avg Losses >> G/D 0.9173/1.3125 [D-Real: 0.6596 D-Fake: 0.6528]\n",
            "Epoch 066 | ET 27.31 min | Avg Losses >> G/D 0.9784/1.2982 [D-Real: 0.6492 D-Fake: 0.6490]\n",
            "Epoch 067 | ET 27.74 min | Avg Losses >> G/D 0.9192/1.2992 [D-Real: 0.6535 D-Fake: 0.6457]\n",
            "Epoch 068 | ET 28.16 min | Avg Losses >> G/D 0.8981/1.3088 [D-Real: 0.6571 D-Fake: 0.6517]\n",
            "Epoch 069 | ET 28.58 min | Avg Losses >> G/D 0.9352/1.3164 [D-Real: 0.6594 D-Fake: 0.6571]\n",
            "Epoch 070 | ET 29.01 min | Avg Losses >> G/D 0.9288/1.2990 [D-Real: 0.6526 D-Fake: 0.6464]\n",
            "Epoch 071 | ET 29.42 min | Avg Losses >> G/D 0.9147/1.3112 [D-Real: 0.6596 D-Fake: 0.6516]\n",
            "Epoch 072 | ET 29.83 min | Avg Losses >> G/D 0.9175/1.3189 [D-Real: 0.6606 D-Fake: 0.6582]\n",
            "Epoch 073 | ET 30.24 min | Avg Losses >> G/D 0.9099/1.3186 [D-Real: 0.6614 D-Fake: 0.6573]\n",
            "Epoch 074 | ET 30.65 min | Avg Losses >> G/D 0.9137/1.3195 [D-Real: 0.6607 D-Fake: 0.6589]\n",
            "Epoch 075 | ET 31.05 min | Avg Losses >> G/D 0.9171/1.3063 [D-Real: 0.6579 D-Fake: 0.6483]\n",
            "Epoch 076 | ET 31.47 min | Avg Losses >> G/D 0.9207/1.3120 [D-Real: 0.6577 D-Fake: 0.6543]\n",
            "Epoch 077 | ET 31.89 min | Avg Losses >> G/D 0.9249/1.3070 [D-Real: 0.6562 D-Fake: 0.6508]\n",
            "Epoch 078 | ET 32.31 min | Avg Losses >> G/D 0.9413/1.3076 [D-Real: 0.6545 D-Fake: 0.6531]\n",
            "Epoch 079 | ET 32.73 min | Avg Losses >> G/D 0.9087/1.3226 [D-Real: 0.6627 D-Fake: 0.6598]\n",
            "Epoch 080 | ET 33.15 min | Avg Losses >> G/D 0.9259/1.3083 [D-Real: 0.6549 D-Fake: 0.6534]\n",
            "Epoch 081 | ET 33.58 min | Avg Losses >> G/D 0.8886/1.3161 [D-Real: 0.6603 D-Fake: 0.6558]\n",
            "Epoch 082 | ET 34.00 min | Avg Losses >> G/D 0.9123/1.3177 [D-Real: 0.6612 D-Fake: 0.6565]\n",
            "Epoch 083 | ET 34.42 min | Avg Losses >> G/D 0.9395/1.3009 [D-Real: 0.6535 D-Fake: 0.6473]\n",
            "Epoch 084 | ET 34.84 min | Avg Losses >> G/D 0.9058/1.3161 [D-Real: 0.6592 D-Fake: 0.6569]\n",
            "Epoch 085 | ET 35.26 min | Avg Losses >> G/D 0.9230/1.3151 [D-Real: 0.6578 D-Fake: 0.6573]\n",
            "Epoch 086 | ET 35.68 min | Avg Losses >> G/D 0.9106/1.3177 [D-Real: 0.6598 D-Fake: 0.6579]\n",
            "Epoch 087 | ET 36.11 min | Avg Losses >> G/D 0.9149/1.3155 [D-Real: 0.6607 D-Fake: 0.6548]\n",
            "Epoch 088 | ET 36.53 min | Avg Losses >> G/D 0.9177/1.3176 [D-Real: 0.6615 D-Fake: 0.6560]\n",
            "Epoch 089 | ET 36.95 min | Avg Losses >> G/D 0.9273/1.3038 [D-Real: 0.6540 D-Fake: 0.6498]\n",
            "Epoch 090 | ET 37.37 min | Avg Losses >> G/D 0.8945/1.3130 [D-Real: 0.6597 D-Fake: 0.6533]\n",
            "Epoch 091 | ET 37.79 min | Avg Losses >> G/D 0.9270/1.3123 [D-Real: 0.6576 D-Fake: 0.6547]\n",
            "Epoch 092 | ET 38.21 min | Avg Losses >> G/D 0.9131/1.3142 [D-Real: 0.6598 D-Fake: 0.6544]\n",
            "Epoch 093 | ET 38.64 min | Avg Losses >> G/D 0.9055/1.3163 [D-Real: 0.6618 D-Fake: 0.6545]\n",
            "Epoch 094 | ET 39.06 min | Avg Losses >> G/D 0.9098/1.3182 [D-Real: 0.6610 D-Fake: 0.6573]\n",
            "Epoch 095 | ET 39.48 min | Avg Losses >> G/D 0.9041/1.3146 [D-Real: 0.6607 D-Fake: 0.6540]\n",
            "Epoch 096 | ET 39.90 min | Avg Losses >> G/D 0.9074/1.3199 [D-Real: 0.6616 D-Fake: 0.6583]\n",
            "Epoch 097 | ET 40.32 min | Avg Losses >> G/D 0.9369/1.3099 [D-Real: 0.6566 D-Fake: 0.6533]\n",
            "Epoch 098 | ET 40.73 min | Avg Losses >> G/D 0.9312/1.3090 [D-Real: 0.6550 D-Fake: 0.6540]\n",
            "Epoch 099 | ET 41.14 min | Avg Losses >> G/D 0.8999/1.3115 [D-Real: 0.6588 D-Fake: 0.6527]\n",
            "Epoch 100 | ET 41.56 min | Avg Losses >> G/D 0.9239/1.3115 [D-Real: 0.6588 D-Fake: 0.6527]\n"
          ],
          "name": "stdout"
        }
      ]
    },
    {
      "cell_type": "code",
      "metadata": {
        "id": "J6FHgTkhHmMp",
        "colab_type": "code",
        "outputId": "0b37109e-09a3-4bbd-fcb2-c3dcf8013132",
        "colab": {
          "base_uri": "https://localhost:8080/",
          "height": 596
        }
      },
      "source": [
        "# Plot discriminator & generator losses to analyze the behavior of both \n",
        "# subnetworks & assess whether they converged\n",
        "# Also plot the avg probabilities of the batches of real & fake examples\n",
        "\n",
        "import itertools\n",
        "fig = plt.figure(figsize=(16, 6))\n",
        "## Plotting the losses\n",
        "ax = fig.add_subplot(1, 2, 1)\n",
        "g_losses = [item[0] for item in itertools.chain(*all_losses)]\n",
        "d_losses = [item[1]/2.0 for item in itertools.chain(*all_losses)]\n",
        "plt.plot(g_losses, label='Generator loss', alpha=0.95)\n",
        "plt.plot(d_losses, label='Discriminator loss', alpha=0.95)\n",
        "plt.legend(fontsize=20)\n",
        "ax.set_xlabel('Iteration', size=15)\n",
        "ax.set_ylabel('Loss', size=15)\n",
        "epochs = np.arange(1, 101)\n",
        "epoch2iter = lambda e: e*len(all_losses[-1])\n",
        "epoch_ticks = [1, 20, 40, 60, 80, 100]\n",
        "newpos = [epoch2iter(e) for e in epoch_ticks]\n",
        "ax2 = ax.twiny()\n",
        "ax2.set_xticks(newpos)\n",
        "ax2.set_xticklabels(epoch_ticks)\n",
        "ax2.xaxis.set_ticks_position('bottom')\n",
        "ax2.xaxis.set_label_position('bottom')\n",
        "ax2.spines['bottom'].set_position(('outward', 60))\n",
        "ax2.set_xlabel('Epoch', size=15)\n",
        "ax2.set_xlim(ax.get_xlim())\n",
        "ax.tick_params(axis='both', which='major', labelsize=15)\n",
        "ax.tick_params(axis='both', which='major', labelsize=15)\n",
        "## Plotting the outputs of the discriminator\n",
        "ax = fig.add_subplots(1, 2, 2)\n",
        "d_vals_real = [item[0] for item in itertools.chain(*all_d_vals)]\n",
        "d_vals_fake = [item[1] for item in itertools.chain(*all_d_vals)]\n",
        "plt.plot(d_vals_real, alpha=0.75, label=r'Real: $D(\\mathbf{x})$')\n",
        "plt.plot(d_vals_fake, alpha=0.75, label=r'Fake: $D(G\\mathbf{z}))$')\n",
        "plt.legend(fontsize=20)\n",
        "ax.set_xlabel('Iteration', size=15)\n",
        "ax.set_ylabel('Discriminator output', size=15)\n",
        "ax2 = ax.twiny()\n",
        "ax2.set_xticks(newpos)\n",
        "ax2.setxticklabels(epocj_ticks)\n",
        "ax2.xaxis.set_ticks_position('bottom')\n",
        "ax2.xaxis.set_label_position('bottom')\n",
        "ax2.spines['bottom'].set_position(('outward', 60))\n",
        "ax2.set_xlabel('Epoch', size=15)\n",
        "ax2.set_xlim(ax.get_xlim())\n",
        "ax.tick_params(axis='both', which='major', labelsize=15)\n",
        "ax2.tick_params(axis='both', which='major', labelsize=15)\n",
        "plt.show()"
      ],
      "execution_count": 0,
      "outputs": [
        {
          "output_type": "error",
          "ename": "NameError",
          "evalue": "ignored",
          "traceback": [
            "\u001b[0;31m---------------------------------------------------------------------------\u001b[0m",
            "\u001b[0;31mNameError\u001b[0m                                 Traceback (most recent call last)",
            "\u001b[0;32m<ipython-input-14-9102d690ca95>\u001b[0m in \u001b[0;36m<module>\u001b[0;34m()\u001b[0m\n\u001b[1;32m      7\u001b[0m \u001b[0;31m## Plotting the losses\u001b[0m\u001b[0;34m\u001b[0m\u001b[0;34m\u001b[0m\u001b[0;34m\u001b[0m\u001b[0m\n\u001b[1;32m      8\u001b[0m \u001b[0max\u001b[0m \u001b[0;34m=\u001b[0m \u001b[0mfig\u001b[0m\u001b[0;34m.\u001b[0m\u001b[0madd_subplot\u001b[0m\u001b[0;34m(\u001b[0m\u001b[0;36m1\u001b[0m\u001b[0;34m,\u001b[0m \u001b[0;36m2\u001b[0m\u001b[0;34m,\u001b[0m \u001b[0;36m1\u001b[0m\u001b[0;34m)\u001b[0m\u001b[0;34m\u001b[0m\u001b[0;34m\u001b[0m\u001b[0m\n\u001b[0;32m----> 9\u001b[0;31m \u001b[0mg_losses\u001b[0m \u001b[0;34m=\u001b[0m \u001b[0;34m[\u001b[0m\u001b[0mitem\u001b[0m\u001b[0;34m[\u001b[0m\u001b[0;36m0\u001b[0m\u001b[0;34m]\u001b[0m \u001b[0;32mfor\u001b[0m \u001b[0mitem\u001b[0m \u001b[0;32min\u001b[0m \u001b[0mitertools\u001b[0m\u001b[0;34m.\u001b[0m\u001b[0mchain\u001b[0m\u001b[0;34m(\u001b[0m\u001b[0;34m*\u001b[0m\u001b[0mall_losses\u001b[0m\u001b[0;34m)\u001b[0m\u001b[0;34m]\u001b[0m\u001b[0;34m\u001b[0m\u001b[0;34m\u001b[0m\u001b[0m\n\u001b[0m\u001b[1;32m     10\u001b[0m \u001b[0md_losses\u001b[0m \u001b[0;34m=\u001b[0m \u001b[0;34m[\u001b[0m\u001b[0mitem\u001b[0m\u001b[0;34m[\u001b[0m\u001b[0;36m1\u001b[0m\u001b[0;34m]\u001b[0m\u001b[0;34m/\u001b[0m\u001b[0;36m2.0\u001b[0m \u001b[0;32mfor\u001b[0m \u001b[0mitem\u001b[0m \u001b[0;32min\u001b[0m \u001b[0mitertools\u001b[0m\u001b[0;34m.\u001b[0m\u001b[0mchain\u001b[0m\u001b[0;34m(\u001b[0m\u001b[0;34m*\u001b[0m\u001b[0mall_losses\u001b[0m\u001b[0;34m)\u001b[0m\u001b[0;34m]\u001b[0m\u001b[0;34m\u001b[0m\u001b[0;34m\u001b[0m\u001b[0m\n\u001b[1;32m     11\u001b[0m \u001b[0mplt\u001b[0m\u001b[0;34m.\u001b[0m\u001b[0mplot\u001b[0m\u001b[0;34m(\u001b[0m\u001b[0mg_losses\u001b[0m\u001b[0;34m,\u001b[0m \u001b[0mlabel\u001b[0m\u001b[0;34m=\u001b[0m\u001b[0;34m'Generator loss'\u001b[0m\u001b[0;34m,\u001b[0m \u001b[0malpha\u001b[0m\u001b[0;34m=\u001b[0m\u001b[0;36m0.95\u001b[0m\u001b[0;34m)\u001b[0m\u001b[0;34m\u001b[0m\u001b[0;34m\u001b[0m\u001b[0m\n",
            "\u001b[0;31mNameError\u001b[0m: name 'all_losses' is not defined"
          ]
        },
        {
          "output_type": "display_data",
          "data": {
            "image/png": "[encoded data removed]",
            "text/plain": [
              "<Figure size 1152x432 with 1 Axes>"
            ]
          },
          "metadata": {
            "tags": [],
            "needs_background": "light"
          }
        }
      ]
    },
    {
      "cell_type": "code",
      "metadata": {
        "id": "GE507k1lPwib",
        "colab_type": "code",
        "outputId": "849be3f1-6365-4e62-e0fb-006040177857",
        "colab": {
          "base_uri": "https://localhost:8080/",
          "height": 783
        }
      },
      "source": [
        "# Lets visualize some of the images produced by the generator for a selection of epochs\n",
        "selected_epochs = [1, 2, 4, 10, 50, 100]\n",
        "fig = plt.figure(figsize=(10, 14))\n",
        "for i, e in enumerate(selected_epochs):\n",
        "  for j in range(5):\n",
        "    ax = fig.add_subplot(6, 5, i*5+j+1)\n",
        "    ax.set_xticks([])\n",
        "    ax.set_yticks([])\n",
        "    if j == 0:\n",
        "      ax.text(\n",
        "          -0.06, 0.5, 'Epoch {}'.format(e),\n",
        "          rotation=90, size=18, color='red',\n",
        "          horizontalalignment='right',\n",
        "          verticalalignment='center',\n",
        "          transform=ax.transAxes)\n",
        "      \n",
        "    image = epoch_samples[e-1][j]\n",
        "    ax.imshow(image, cmap='gray_r')\n",
        "\n",
        "plt.show()"
      ],
      "execution_count": 0,
      "outputs": [
        {
          "output_type": "display_data",
          "data": {
            "image/png": "[encoded data removed]",
            "text/plain": [
              "<Figure size 720x1008 with 30 Axes>"
            ]
          },
          "metadata": {
            "tags": []
          }
        }
      ]
    },
    {
      "cell_type": "markdown",
      "metadata": {
        "id": "8EPZfB9cblQi",
        "colab_type": "text"
      },
      "source": [
        "As we can see from above figure, the generator network produced more and more realistic images as the training progressed. However, even after 100 epochs, the produced images still look very different to the handwritten digits contained in the MNIST dataset."
      ]
    },
    {
      "cell_type": "markdown",
      "metadata": {
        "id": "ssbR90eRVRx8",
        "colab_type": "text"
      },
      "source": [
        "**Improving quality of synthesized images using CNN & WGAN(Wasserstein GAN)**\n",
        "\n",
        "Process -\n",
        "Starting from a random vector, z, the DCGAN first uses fully connected layer to project z into a new vector with a proper size so that it can be reshaped into a spatial convolutional representation(h x w x c), which is smaller than the output image size. Then, a series of convolutional layers, known as transposed convolution, are used to upsample the feature maps to the desired output image size.\n"
      ]
    },
    {
      "cell_type": "markdown",
      "metadata": {
        "id": "pdEhKw8rZTw6",
        "colab_type": "text"
      },
      "source": [
        "**Transposed Convolution**\n",
        "\n",
        "Used for upsampling the feature space. Assume that we've an input feature map of size n x n. Then, we apply 2D convolution operation with certain padding and stride parameters to this n x n input, resulting in an output feature m x m. Now the question lies as to how we can apply another convolution operation to obtain feature map with the initial dimension n x x from this m x m output feature map while maintaining the connectivity patterns between the input and output? Note that only the shape of n x n input matrix is recovered and not the actual matrix. It is also called as fractionally strided convolution. In deep learning literature, another term that is used to refer to transposed convolution is deconvolution, which is defined as the inverse of a convolutional operation. "
      ]
    },
    {
      "cell_type": "markdown",
      "metadata": {
        "id": "cc_s1JvEeSGR",
        "colab_type": "text"
      },
      "source": [
        "**Batch Normalization**\n",
        "\n",
        "The main idea behind BatchNorm is normalizing the layers inputs and preventing changes in their distribution during training, which enables faster and better convergence.\n",
        "\n",
        "Process - \n",
        "Assume that we've the net preactivation feature maps obtained after a convolutional layer in a four-dimensional tensor Z, with the shape [m x h x w x c], where m is the num of examples in the batch, h x w is the spatial dimension of the feature maps, and c is the number of channels. \n",
        "\n",
        "BatchNorm can be summarized in three steps - \n",
        "a. Compute the mean & std deviation of the net inputs for each mini-batch\n",
        "b. Standardize the net inputs for all examples in the batch\n",
        "c. Scale and shift the normalized net inputs using two learnable parameter vectors."
      ]
    },
    {
      "cell_type": "markdown",
      "metadata": {
        "id": "IETFRBLYgZy5",
        "colab_type": "text"
      },
      "source": [
        "**Implementing the generator and discriminator**\n",
        "\n",
        "The generator takes a vector, z, of size 20 as input, applies a fully connected (dense) layer to increase its size to 6272 and then reshapes it into a rank-3 tensor of shape 7 x 7 x 128(spatial dimension -  7 x 7, 128 channels). Then, a series of transposed convolutions upsamples the feature maps until the spatial dimension of the resulting feature maps reaches 28 x 28. The num of channels is reduced by half adter each transposed convolutional layer, except the last one, which uses only one output filter to generate a grayscale image. Each transposed convolutional layer is followed by BatchNorm and leaky ReLU activation functions, except the last one, which uses tanh activation(without BatchNorm).\n",
        "\n",
        "The discriminator recieves images of size 28 x 28 x 1, which are paased through four convolutional layers. The first three convolutional layers reduce the spatial dimensionality by 4 while increasing the number of channels of the feature maps. Each convolutional layer is also followed by BatchNorm, leaky ReLU activation, and a dropout layer with rate=0.3. The last convolutional layer uses kernels of size 7 x 7 and a single filter to reduce the spatial dimensionality of the output to 1 x 1 x 1."
      ]
    },
    {
      "cell_type": "code",
      "metadata": {
        "id": "za2gOQ1IZVpT",
        "colab_type": "code",
        "colab": {}
      },
      "source": [
        "import tensorflow as tf\n",
        "import numpy as np\n",
        "\n",
        "def make_dcgan_generator(\n",
        "    z_size=20,\n",
        "    output_size=(28, 28, 1),\n",
        "    n_filters=128,\n",
        "    n_blocks=2):\n",
        "  size_factor = 2**n_blocks\n",
        "  hidden_size = (\n",
        "      output_size[0]//size_factor,\n",
        "      output_size[1]//size_factor)\n",
        "  \n",
        "  model = tf.keras.Sequential([\n",
        "       tf.keras.layers.Input(shape=(z_size,)),\n",
        "\n",
        "       tf.keras.layers.Dense(\n",
        "           units=n_filters*np.prod(hidden_size),\n",
        "           use_bias=False),\n",
        "\n",
        "        tf.keras.layers.BatchNormalization(),\n",
        "        tf.keras.layers.LeakyReLU(),\n",
        "        tf.keras.layers.Reshape(\n",
        "            (hidden_size[0], hidden_size[1], n_filters)),\n",
        "\n",
        "        tf.keras.layers.Conv2DTranspose(\n",
        "            filters=n_filters, kernel_size=(5, 5),\n",
        "            strides=(1, 1), padding='same', use_bias=False),\n",
        "        tf.keras.layers.BatchNormalization(),\n",
        "        tf.keras.layers.LeakyReLU()                                                      \n",
        "  ])\n",
        "\n",
        "  nf = n_filters\n",
        "  for i in range(n_blocks):\n",
        "    nf = nf // 2\n",
        "    model.add(\n",
        "        tf.keras.layers.Conv2DTranspose(\n",
        "            filters=nf, kernel_size=(5, 5),\n",
        "            strides=(2, 2), padding='same',\n",
        "            use_bias=False))\n",
        "    model.add(tf.keras.layers.BatchNormalization())\n",
        "    model.add(tf.keras.layers.LeakyReLU())\n",
        "\n",
        "  model.add(\n",
        "      tf.keras.layers.Conv2DTranspose(\n",
        "          filters=output_size[2], kernel_size=(5, 5),\n",
        "          strides=[1, 1], padding='same', use_bias=False,\n",
        "          activation='tanh'))\n",
        "  return model\n",
        "\n",
        "def make_dcgan_discriminator(\n",
        "    input_size=(28, 28, 1),\n",
        "    n_filters=64,\n",
        "    n_blocks=2):\n",
        "  model = tf.keras.Sequential([\n",
        "      tf.keras.layers.Input(shape=input_size),\n",
        "      tf.keras.layers.Conv2D(\n",
        "          filters=n_filters, kernel_size=5,\n",
        "          strides=(1, 1), padding='same'),\n",
        "      tf.keras.layers.BatchNormalization(),\n",
        "      tf.keras.layers.LeakyReLU()                        \n",
        "  ])\n",
        "\n",
        "  nf = n_filters\n",
        "  for i in range(n_blocks):\n",
        "    nf = nf * 2\n",
        "    model.add(\n",
        "        tf.keras.layers.Conv2D(\n",
        "            filters=nf, kernel_size=(5, 5),\n",
        "            strides=(2, 2), padding='same'))\n",
        "    model.add(tf.keras.layers.BatchNormalization())\n",
        "    model.add(tf.keras.layers.LeakyReLU())\n",
        "    model.add(tf.keras.layers.Dropout(0.3))\n",
        "\n",
        "  model.add(\n",
        "      tf.keras.layers.Conv2D(\n",
        "          filters=1, kernel_size=(7, 7),\n",
        "          padding='valid'))\n",
        "  model.add(tf.keras.layers.Reshape((1,)))\n",
        "\n",
        "  return model"
      ],
      "execution_count": 0,
      "outputs": []
    },
    {
      "cell_type": "code",
      "metadata": {
        "id": "yqRwh7AA6_ZD",
        "colab_type": "code",
        "colab": {}
      },
      "source": [
        "import tensorflow_datasets as tfds\n",
        "mnist_bldr = tfds.builder('mnist')\n",
        "mnist_bldr.download_and_prepare()\n",
        "mnsit = mnist_bldr.as_dataset(shuffle_files=False)\n",
        "# Function to tranform the dataset to output an image tensor\n",
        "def preprocess(ex, mode='uniform'):\n",
        "  image = ex['image']\n",
        "  image = tf.image.convert_image_dtype(image, tf.float32)\n",
        "\n",
        "  image = image*2 - 1.0\n",
        "  if mode == 'uniform':\n",
        "    input_z = tf.random.uniform(\n",
        "        shape=(z_size,), minval=-1.0, maxval=1.0)\n",
        "  elif mode == 'normal':\n",
        "    input_z = tf.random.normal(shape=(z_size,))\n",
        "  return input_z, image"
      ],
      "execution_count": 0,
      "outputs": []
    },
    {
      "cell_type": "code",
      "metadata": {
        "id": "5BJIlb8B8D8m",
        "colab_type": "code",
        "outputId": "2c5eb82c-af2d-4273-e3c2-7c0654c54bf4",
        "colab": {
          "base_uri": "https://localhost:8080/",
          "height": 641
        }
      },
      "source": [
        "# create a generator network\n",
        "gen_model = make_dcgan_generator()\n",
        "gen_model.summary()"
      ],
      "execution_count": 0,
      "outputs": [
        {
          "output_type": "stream",
          "text": [
            "Model: \"sequential_8\"\n",
            "_________________________________________________________________\n",
            "Layer (type)                 Output Shape              Param #   \n",
            "=================================================================\n",
            "dense_10 (Dense)             (None, 6272)              125440    \n",
            "_________________________________________________________________\n",
            "batch_normalization_14 (Batc (None, 6272)              25088     \n",
            "_________________________________________________________________\n",
            "leaky_re_lu_18 (LeakyReLU)   (None, 6272)              0         \n",
            "_________________________________________________________________\n",
            "reshape_4 (Reshape)          (None, 7, 7, 128)         0         \n",
            "_________________________________________________________________\n",
            "conv2d_transpose_8 (Conv2DTr (None, 7, 7, 128)         409600    \n",
            "_________________________________________________________________\n",
            "batch_normalization_15 (Batc (None, 7, 7, 128)         512       \n",
            "_________________________________________________________________\n",
            "leaky_re_lu_19 (LeakyReLU)   (None, 7, 7, 128)         0         \n",
            "_________________________________________________________________\n",
            "conv2d_transpose_9 (Conv2DTr (None, 14, 14, 64)        204800    \n",
            "_________________________________________________________________\n",
            "batch_normalization_16 (Batc (None, 14, 14, 64)        256       \n",
            "_________________________________________________________________\n",
            "leaky_re_lu_20 (LeakyReLU)   (None, 14, 14, 64)        0         \n",
            "_________________________________________________________________\n",
            "conv2d_transpose_10 (Conv2DT (None, 28, 28, 32)        51200     \n",
            "_________________________________________________________________\n",
            "batch_normalization_17 (Batc (None, 28, 28, 32)        128       \n",
            "_________________________________________________________________\n",
            "leaky_re_lu_21 (LeakyReLU)   (None, 28, 28, 32)        0         \n",
            "_________________________________________________________________\n",
            "conv2d_transpose_11 (Conv2DT (None, 28, 28, 1)         800       \n",
            "=================================================================\n",
            "Total params: 817,824\n",
            "Trainable params: 804,832\n",
            "Non-trainable params: 12,992\n",
            "_________________________________________________________________\n"
          ],
          "name": "stdout"
        }
      ]
    },
    {
      "cell_type": "code",
      "metadata": {
        "id": "irQe1qy58kfo",
        "colab_type": "code",
        "outputId": "8046e16d-f060-4f88-b1d5-bfa3832e4d88",
        "colab": {
          "base_uri": "https://localhost:8080/",
          "height": 607
        }
      },
      "source": [
        "disc_model = make_dcgan_discriminator()\n",
        "disc_model.summary()"
      ],
      "execution_count": 0,
      "outputs": [
        {
          "output_type": "stream",
          "text": [
            "Model: \"sequential_9\"\n",
            "_________________________________________________________________\n",
            "Layer (type)                 Output Shape              Param #   \n",
            "=================================================================\n",
            "conv2d_8 (Conv2D)            (None, 28, 28, 64)        1664      \n",
            "_________________________________________________________________\n",
            "batch_normalization_18 (Batc (None, 28, 28, 64)        256       \n",
            "_________________________________________________________________\n",
            "leaky_re_lu_22 (LeakyReLU)   (None, 28, 28, 64)        0         \n",
            "_________________________________________________________________\n",
            "conv2d_9 (Conv2D)            (None, 14, 14, 128)       204928    \n",
            "_________________________________________________________________\n",
            "batch_normalization_19 (Batc (None, 14, 14, 128)       512       \n",
            "_________________________________________________________________\n",
            "leaky_re_lu_23 (LeakyReLU)   (None, 14, 14, 128)       0         \n",
            "_________________________________________________________________\n",
            "dropout_6 (Dropout)          (None, 14, 14, 128)       0         \n",
            "_________________________________________________________________\n",
            "conv2d_10 (Conv2D)           (None, 7, 7, 256)         819456    \n",
            "_________________________________________________________________\n",
            "batch_normalization_20 (Batc (None, 7, 7, 256)         1024      \n",
            "_________________________________________________________________\n",
            "leaky_re_lu_24 (LeakyReLU)   (None, 7, 7, 256)         0         \n",
            "_________________________________________________________________\n",
            "dropout_7 (Dropout)          (None, 7, 7, 256)         0         \n",
            "_________________________________________________________________\n",
            "conv2d_11 (Conv2D)           (None, 1, 1, 1)           12545     \n",
            "_________________________________________________________________\n",
            "reshape_5 (Reshape)          (None, 1)                 0         \n",
            "=================================================================\n",
            "Total params: 1,040,385\n",
            "Trainable params: 1,039,489\n",
            "Non-trainable params: 896\n",
            "_________________________________________________________________\n"
          ],
          "name": "stdout"
        }
      ]
    },
    {
      "cell_type": "markdown",
      "metadata": {
        "id": "qguY8zEw95R7",
        "colab_type": "text"
      },
      "source": [
        "Notice that the number of parameters for BatchNorm layers is indeed four times the num of channels(4 x channels). Remember that the BatchNorm parameters mean and std dvd the (non-trainable params) for each feature value inferred from a given batch. "
      ]
    },
    {
      "cell_type": "markdown",
      "metadata": {
        "id": "ycPwykZvBFeP",
        "colab_type": "text"
      },
      "source": [
        "Using **Earth Mover's** distance to measure dissimilarity between the distribution of real and fake examples - \n",
        "\n",
        "Let's assume Pr is the distribution of the real examples and Pg is the distribution of fake(generated) examples. Pr and Pg replace P and Q in the EM distance equation. Hence, the computation of the EM distance can be simplified using a theorem called Kantorovich-Rubinstein Duality."
      ]
    },
    {
      "cell_type": "markdown",
      "metadata": {
        "id": "ZLSk4hU_EEWa",
        "colab_type": "text"
      },
      "source": [
        "Using Wasserstein Distance to measure loss - \n",
        "\n",
        "The critic(Discriminator network) returns its outputs for the batch of real image examples and the batch of synthesized examples. We use the notations D(x) and D(G(z))."
      ]
    },
    {
      "cell_type": "markdown",
      "metadata": {
        "id": "XbHRzRfrE9Ai",
        "colab_type": "text"
      },
      "source": [
        "**Gradient Penalty**\n",
        "\n",
        "Rather than clipping weight as it leads to exploding and vanishing gradients, an alternate solution was proposed by Ishaan Guljarani et al. named Gradient Penalty.\n",
        "\n",
        "Process - \n",
        "1. For each pair of real and fake examples in a given batch, choose a random number, sampled from a uniform distribution.\n",
        "2. Calculate an interpolation between the real and fake examples.\n",
        "3. Compute the discriminator (critic) output for all the interpolated examples.\n",
        "4. Calculate the gradients of the critic's output with respect to each interpolated example.\n",
        "5. Compute the GP.\n"
      ]
    },
    {
      "cell_type": "code",
      "metadata": {
        "id": "xR2o2RmX9rsB",
        "colab_type": "code",
        "colab": {}
      },
      "source": [
        "num_epochs = 100\n",
        "batch_size = 128\n",
        "image_size = (28, 28)\n",
        "z_size = 20\n",
        "mode_z = 'uniform'\n",
        "lambda_gp = 10.0\n",
        "tf.random.set_seed(1)\n",
        "np.random.seed(1)\n",
        "## Set-up the dataset\n",
        "mnist_trainset = mnist['train']\n",
        "mnist_trainset = mnist_trainset.map(preprocess)\n",
        "mnist_trainset = mnist_trainset.shuffle(10000)\n",
        "mnist_trainset = mnist_trainset.batch(\n",
        "    batch_size, drop_remainder=True)\n",
        "## Set-up the model\n",
        "with tf.device(device_name):\n",
        "  gen_model = make_dcgan_generator()\n",
        "  gen_model.build(input_shape=(None, z_size))\n",
        "\n",
        "  disc_model = make_dcgan_discriminator()\n",
        "  disc_model.build(input_shape=(None, np.prod(image_size)))"
      ],
      "execution_count": 0,
      "outputs": []
    },
    {
      "cell_type": "code",
      "metadata": {
        "id": "E7zAaXaKHEIS",
        "colab_type": "code",
        "outputId": "f833750b-fb25-488b-8a5a-d24271105deb",
        "colab": {
          "base_uri": "https://localhost:8080/",
          "height": 1000
        }
      },
      "source": [
        "import time \n",
        "import tensorflow as tf\n",
        "\n",
        "## Optimizers:\n",
        "g_optimizer = tf.keras.optimizers.Adam(0.0002)\n",
        "d_optimizer = tf.keras.optimizers.Adam(0.0002)\n",
        "if mode_z == 'uniform':\n",
        "  fixed_z = tf.random.uniform(\n",
        "      shape=(batch_size, z_size),\n",
        "      minval=-1,\n",
        "      maxval=1)\n",
        "elif mode_z == 'normal':\n",
        "  fixed_z = tf.random.normal(\n",
        "      shape=(batch_size, z_size))\n",
        "  \n",
        "def create_samples(g_model, input_z):\n",
        "  g_output = g_model(input_z, training=False)\n",
        "  images = tf.reshape(g_output, (batch_size, *image_size))\n",
        "  return (images + 1) / 2.0\n",
        "all_losses = []\n",
        "epoch_samples = []\n",
        "start_time = time.time()\n",
        "for epoch in range(1, num_epochs+1):\n",
        "  epoch_losses = []\n",
        "\n",
        "  for i, (input_z, input_real) in enumerate(mnist_trainset):\n",
        "    with tf.GradientTape() as d_tape, tf.GradientTape() as g_tape:\n",
        "      g_output = gen_model(input_z, training=True)\n",
        "      d_critics_real = disc_model(input_real, training=True)\n",
        "      d_critics_fake = disc_model(g_output, training=True)\n",
        "\n",
        "      ## Compute generator's loss:\n",
        "      g_loss = -tf.math.reduce_mean(d_critics_fake)\n",
        "\n",
        "      ## Compute discriminator's loss:\n",
        "      d_loss_real = -tf.math.reduce_mean(d_critics_real)\n",
        "      d_loss_fake = tf.math.reduce_mean(d_critics_fake)\n",
        "      d_loss = d_loss_real + d_loss_fake\n",
        "\n",
        "      ## Gradient-penalty:\n",
        "      with tf.GradientTape() as gp_tape:\n",
        "        alpha = tf.random.uniform(\n",
        "            shape=[d_critics_real.shape[0], 1, 1, 1],\n",
        "            minval=0.0, maxval=1.0)\n",
        "        interpolated = (alpha*input_real + (1-alpha)*g_output)\n",
        "        gp_tape.watch(interpolated)\n",
        "        d_critics_intp = disc_model(interpolated)\n",
        "\n",
        "        grads_intp = gp_tape.gradient(\n",
        "            d_critics_intp, [interpolated,]) [0]\n",
        "        grads_intp_l2 = tf.sqrt(\n",
        "            tf.reduce_sum(tf.square(grads_intp),\n",
        "                          axis=[1, 2, 3]))\n",
        "        grad_penalty = tf.reduce_mean(tf.square(\n",
        "                          grads_intp_l2 - 1.0))\n",
        "        d_loss = d_loss + lambda_gp * grad_penalty\n",
        "\n",
        "        ## Optimization: Compute the gradients apply them\n",
        "        d_grads = d_tape.gradient(d_loss, disc_model.trainable_variables)\n",
        "        d_optimizer.apply_gradients(\n",
        "            grads_and_vars=zip(d_grads, disc_model.trainable_variables))\n",
        "        \n",
        "        g_grads = g_tape.gradient(g_loss, gen_model.trainable_variables)\n",
        "        g_optimizer.apply_gradients(grads_and_vars=zip(g_grads,\n",
        "                                    gen_model.trainable_variables))\n",
        "        epoch_losses.append(\n",
        "            (g_loss.numpy(), d_loss.numpy(),\n",
        "             d_loss_real.numpy(), d_loss_fake.numpy()))\n",
        "        \n",
        "  all_losses.append(epoch_losses)\n",
        "  print(\n",
        "      'Epoch {:03d} | ET {:.2f} min | Avg Losses >>'\n",
        "      ' G/D {:6.2f}/{:6.2f} [D-Real: {:6.2f}'\n",
        "      ' D-Fake: {:6.2f}]'.format(\n",
        "          epoch, (time.time() - start_time)/60,\n",
        "          *list(np.mean(all_losses[-1], axis=0))))\n",
        "  epoch_samples.append(create_samples(gen_model, fixed_z).numpy())"
      ],
      "execution_count": 0,
      "outputs": [
        {
          "output_type": "stream",
          "text": [
            "Epoch 001 | ET 1.40 min | Avg Losses >> G/D 207.27/-343.61 [D-Real: -226.22 D-Fake: -207.27]\n",
            "Epoch 002 | ET 2.81 min | Avg Losses >> G/D 145.94/-104.06 [D-Real: -87.25 D-Fake: -145.94]\n",
            "Epoch 003 | ET 4.21 min | Avg Losses >> G/D 126.60/-69.21 [D-Real: -54.23 D-Fake: -126.60]\n",
            "Epoch 004 | ET 5.61 min | Avg Losses >> G/D  93.74/ 20.86 [D-Real:   1.76 D-Fake: -93.74]\n",
            "Epoch 005 | ET 7.01 min | Avg Losses >> G/D  55.37/ -2.77 [D-Real:  -4.12 D-Fake: -55.37]\n",
            "Epoch 006 | ET 8.41 min | Avg Losses >> G/D  68.07/-17.19 [D-Real:  30.95 D-Fake: -68.07]\n",
            "Epoch 007 | ET 9.82 min | Avg Losses >> G/D  59.25/-13.99 [D-Real:  30.43 D-Fake: -59.25]\n",
            "Epoch 008 | ET 11.22 min | Avg Losses >> G/D  45.04/-27.18 [D-Real:   1.74 D-Fake: -45.04]\n",
            "Epoch 009 | ET 12.63 min | Avg Losses >> G/D  80.81/-20.31 [D-Real:  56.65 D-Fake: -80.81]\n",
            "Epoch 010 | ET 14.04 min | Avg Losses >> G/D  64.28/-33.22 [D-Real:  24.77 D-Fake: -64.28]\n",
            "Epoch 011 | ET 15.45 min | Avg Losses >> G/D 106.89/-38.76 [D-Real:  52.41 D-Fake: -106.89]\n",
            "Epoch 012 | ET 16.86 min | Avg Losses >> G/D  79.40/-35.69 [D-Real:  25.91 D-Fake: -79.40]\n",
            "Epoch 013 | ET 18.26 min | Avg Losses >> G/D  72.49/-23.54 [D-Real:  36.07 D-Fake: -72.49]\n",
            "Epoch 014 | ET 19.68 min | Avg Losses >> G/D  82.76/-29.42 [D-Real:  47.33 D-Fake: -82.76]\n",
            "Epoch 015 | ET 21.09 min | Avg Losses >> G/D  87.19/-27.08 [D-Real:  55.48 D-Fake: -87.19]\n",
            "Epoch 016 | ET 22.51 min | Avg Losses >> G/D 102.88/-46.97 [D-Real:  46.39 D-Fake: -102.88]\n",
            "Epoch 017 | ET 23.92 min | Avg Losses >> G/D 124.25/-31.43 [D-Real:  77.35 D-Fake: -124.25]\n",
            "Epoch 018 | ET 25.33 min | Avg Losses >> G/D 150.89/-40.33 [D-Real: 100.32 D-Fake: -150.89]\n",
            "Epoch 019 | ET 26.73 min | Avg Losses >> G/D 105.53/-29.52 [D-Real:  64.46 D-Fake: -105.53]\n",
            "Epoch 020 | ET 28.14 min | Avg Losses >> G/D 147.25/-38.78 [D-Real:  97.12 D-Fake: -147.25]\n",
            "Epoch 021 | ET 29.56 min | Avg Losses >> G/D 122.29/-35.71 [D-Real:  74.81 D-Fake: -122.29]\n",
            "Epoch 022 | ET 30.98 min | Avg Losses >> G/D 112.57/-26.09 [D-Real:  68.88 D-Fake: -112.57]\n",
            "Epoch 023 | ET 32.38 min | Avg Losses >> G/D 114.74/-33.82 [D-Real:  70.13 D-Fake: -114.74]\n",
            "Epoch 024 | ET 33.80 min | Avg Losses >> G/D 124.01/-46.24 [D-Real:  65.22 D-Fake: -124.01]\n",
            "Epoch 025 | ET 35.20 min | Avg Losses >> G/D 122.11/-20.19 [D-Real:  83.41 D-Fake: -122.11]\n",
            "Epoch 026 | ET 36.62 min | Avg Losses >> G/D 102.22/-28.51 [D-Real:  68.66 D-Fake: -102.22]\n",
            "Epoch 027 | ET 38.02 min | Avg Losses >> G/D 132.66/-28.64 [D-Real:  93.99 D-Fake: -132.66]\n",
            "Epoch 028 | ET 39.43 min | Avg Losses >> G/D 161.82/-22.36 [D-Real: 135.87 D-Fake: -161.82]\n",
            "Epoch 029 | ET 40.84 min | Avg Losses >> G/D 143.86/-31.93 [D-Real: 102.63 D-Fake: -143.86]\n",
            "Epoch 030 | ET 42.23 min | Avg Losses >> G/D 159.27/-36.68 [D-Real: 111.79 D-Fake: -159.27]\n",
            "Epoch 031 | ET 43.62 min | Avg Losses >> G/D 103.40/-37.50 [D-Real:  58.00 D-Fake: -103.40]\n",
            "Epoch 032 | ET 44.99 min | Avg Losses >> G/D  90.00/-35.14 [D-Real:  47.45 D-Fake: -90.00]\n",
            "Epoch 033 | ET 46.40 min | Avg Losses >> G/D 115.47/-29.11 [D-Real:  66.48 D-Fake: -115.47]\n",
            "Epoch 034 | ET 47.79 min | Avg Losses >> G/D  97.82/ 62.06 [D-Real:  67.93 D-Fake: -97.82]\n",
            "Epoch 035 | ET 49.18 min | Avg Losses >> G/D  41.60/ -7.47 [D-Real:  32.43 D-Fake: -41.60]\n",
            "Epoch 036 | ET 50.59 min | Avg Losses >> G/D 183.25/-29.60 [D-Real: 145.33 D-Fake: -183.25]\n",
            "Epoch 037 | ET 52.00 min | Avg Losses >> G/D 130.92/-38.89 [D-Real:  86.81 D-Fake: -130.92]\n",
            "Epoch 038 | ET 53.42 min | Avg Losses >> G/D 145.72/-35.52 [D-Real: 102.19 D-Fake: -145.72]\n",
            "Epoch 039 | ET 54.84 min | Avg Losses >> G/D 121.20/-40.10 [D-Real:  70.67 D-Fake: -121.20]\n",
            "Epoch 040 | ET 56.24 min | Avg Losses >> G/D 175.91/-40.30 [D-Real: 128.50 D-Fake: -175.91]\n",
            "Epoch 041 | ET 57.64 min | Avg Losses >> G/D 137.87/-29.72 [D-Real:  94.53 D-Fake: -137.87]\n",
            "Epoch 042 | ET 59.04 min | Avg Losses >> G/D  99.09/-39.26 [D-Real:  43.02 D-Fake: -99.09]\n",
            "Epoch 043 | ET 60.44 min | Avg Losses >> G/D 168.69/-29.90 [D-Real: 130.30 D-Fake: -168.69]\n",
            "Epoch 044 | ET 61.84 min | Avg Losses >> G/D 188.84/-38.38 [D-Real: 140.11 D-Fake: -188.84]\n",
            "Epoch 045 | ET 63.23 min | Avg Losses >> G/D 186.51/-31.27 [D-Real: 143.61 D-Fake: -186.51]\n",
            "Epoch 046 | ET 64.61 min | Avg Losses >> G/D 175.26/-39.46 [D-Real: 126.56 D-Fake: -175.26]\n",
            "Epoch 047 | ET 65.99 min | Avg Losses >> G/D 114.93/-38.47 [D-Real:  62.45 D-Fake: -114.93]\n",
            "Epoch 048 | ET 67.36 min | Avg Losses >> G/D 171.13/-40.40 [D-Real: 118.74 D-Fake: -171.13]\n",
            "Epoch 049 | ET 68.74 min | Avg Losses >> G/D 183.70/-38.73 [D-Real: 138.27 D-Fake: -183.70]\n",
            "Epoch 050 | ET 70.11 min | Avg Losses >> G/D 177.18/-41.99 [D-Real: 124.84 D-Fake: -177.18]\n",
            "Epoch 051 | ET 71.48 min | Avg Losses >> G/D 198.18/-42.24 [D-Real: 141.03 D-Fake: -198.18]\n",
            "Epoch 052 | ET 72.85 min | Avg Losses >> G/D 163.66/-44.25 [D-Real: 107.26 D-Fake: -163.66]\n",
            "Epoch 053 | ET 74.21 min | Avg Losses >> G/D 188.85/-47.68 [D-Real: 131.21 D-Fake: -188.85]\n",
            "Epoch 054 | ET 75.58 min | Avg Losses >> G/D 242.46/-34.45 [D-Real: 184.42 D-Fake: -242.46]\n",
            "Epoch 055 | ET 76.97 min | Avg Losses >> G/D 213.91/-45.19 [D-Real: 157.91 D-Fake: -213.91]\n",
            "Epoch 056 | ET 78.36 min | Avg Losses >> G/D 280.77/-48.49 [D-Real: 215.79 D-Fake: -280.77]\n",
            "Epoch 057 | ET 79.77 min | Avg Losses >> G/D 174.84/-48.19 [D-Real: 113.93 D-Fake: -174.84]\n",
            "Epoch 058 | ET 81.16 min | Avg Losses >> G/D 306.63/-47.77 [D-Real: 244.68 D-Fake: -306.63]\n",
            "Epoch 059 | ET 82.56 min | Avg Losses >> G/D 319.25/-40.93 [D-Real: 261.09 D-Fake: -319.25]\n",
            "Epoch 060 | ET 83.96 min | Avg Losses >> G/D 348.38/-53.42 [D-Real: 273.50 D-Fake: -348.38]\n",
            "Epoch 061 | ET 85.36 min | Avg Losses >> G/D 443.60/-60.31 [D-Real: 357.58 D-Fake: -443.60]\n",
            "Epoch 062 | ET 86.76 min | Avg Losses >> G/D 432.23/-69.39 [D-Real: 356.79 D-Fake: -432.23]\n",
            "Epoch 063 | ET 88.15 min | Avg Losses >> G/D 470.64/-76.29 [D-Real: 373.53 D-Fake: -470.64]\n",
            "Epoch 064 | ET 89.55 min | Avg Losses >> G/D 544.64/-63.19 [D-Real: 459.22 D-Fake: -544.64]\n",
            "Epoch 065 | ET 90.94 min | Avg Losses >> G/D 460.27/-82.08 [D-Real: 358.67 D-Fake: -460.27]\n",
            "Epoch 066 | ET 92.32 min | Avg Losses >> G/D 537.48/-62.81 [D-Real: 444.14 D-Fake: -537.48]\n",
            "Epoch 067 | ET 93.71 min | Avg Losses >> G/D 645.71/-91.12 [D-Real: 539.27 D-Fake: -645.71]\n",
            "Epoch 068 | ET 95.13 min | Avg Losses >> G/D 468.24/-72.55 [D-Real: 385.47 D-Fake: -468.24]\n",
            "Epoch 069 | ET 96.54 min | Avg Losses >> G/D 357.17/-58.16 [D-Real: 294.99 D-Fake: -357.17]\n",
            "Epoch 070 | ET 97.93 min | Avg Losses >> G/D 532.78/-81.99 [D-Real: 420.96 D-Fake: -532.78]\n",
            "Epoch 071 | ET 99.33 min | Avg Losses >> G/D 626.95/-114.63 [D-Real: 486.22 D-Fake: -626.95]\n",
            "Epoch 072 | ET 100.72 min | Avg Losses >> G/D 481.84/-78.82 [D-Real: 393.03 D-Fake: -481.84]\n",
            "Epoch 073 | ET 102.10 min | Avg Losses >> G/D 682.66/-85.51 [D-Real: 554.73 D-Fake: -682.66]\n",
            "Epoch 074 | ET 103.49 min | Avg Losses >> G/D 599.98/-99.25 [D-Real: 484.01 D-Fake: -599.98]\n",
            "Epoch 075 | ET 104.88 min | Avg Losses >> G/D 779.15/-113.93 [D-Real: 652.55 D-Fake: -779.15]\n",
            "Epoch 076 | ET 106.25 min | Avg Losses >> G/D 779.90/-106.02 [D-Real: 665.84 D-Fake: -779.90]\n",
            "Epoch 077 | ET 107.62 min | Avg Losses >> G/D 858.69/-132.64 [D-Real: 714.16 D-Fake: -858.69]\n",
            "Epoch 078 | ET 108.99 min | Avg Losses >> G/D 807.67/-121.23 [D-Real: 669.01 D-Fake: -807.67]\n",
            "Epoch 079 | ET 110.38 min | Avg Losses >> G/D 1121.13/-206.52 [D-Real: 888.16 D-Fake: -1121.13]\n",
            "Epoch 080 | ET 111.78 min | Avg Losses >> G/D 961.46/-158.50 [D-Real: 762.70 D-Fake: -961.46]\n",
            "Epoch 081 | ET 113.17 min | Avg Losses >> G/D 914.46/-189.04 [D-Real: 705.27 D-Fake: -914.46]\n",
            "Epoch 082 | ET 114.56 min | Avg Losses >> G/D 1338.23/-255.70 [D-Real: 1039.46 D-Fake: -1338.23]\n",
            "Epoch 083 | ET 115.94 min | Avg Losses >> G/D 962.57/-199.75 [D-Real: 714.48 D-Fake: -962.57]\n",
            "Epoch 084 | ET 117.32 min | Avg Losses >> G/D 1484.31/-286.39 [D-Real: 1175.64 D-Fake: -1484.31]\n",
            "Epoch 085 | ET 118.69 min | Avg Losses >> G/D 906.80/-189.57 [D-Real: 705.77 D-Fake: -906.80]\n",
            "Epoch 086 | ET 120.04 min | Avg Losses >> G/D 1831.21/-432.76 [D-Real: 1362.55 D-Fake: -1831.21]\n",
            "Epoch 087 | ET 121.39 min | Avg Losses >> G/D 1979.96/-482.73 [D-Real: 1449.57 D-Fake: -1979.96]\n",
            "Epoch 088 | ET 122.73 min | Avg Losses >> G/D 706.75/-205.76 [D-Real: 474.67 D-Fake: -706.75]\n",
            "Epoch 089 | ET 124.10 min | Avg Losses >> G/D 1818.80/-294.84 [D-Real: 1494.83 D-Fake: -1818.80]\n",
            "Epoch 090 | ET 125.49 min | Avg Losses >> G/D 2404.08/-549.75 [D-Real: 1816.60 D-Fake: -2404.08]\n",
            "Epoch 091 | ET 126.90 min | Avg Losses >> G/D 1664.62/-474.44 [D-Real: 1167.26 D-Fake: -1664.62]\n",
            "Epoch 092 | ET 128.29 min | Avg Losses >> G/D 2654.73/-637.71 [D-Real: 1967.14 D-Fake: -2654.73]\n",
            "Epoch 093 | ET 129.67 min | Avg Losses >> G/D 2451.49/-670.24 [D-Real: 1747.93 D-Fake: -2451.49]\n",
            "Epoch 094 | ET 131.08 min | Avg Losses >> G/D 1827.59/-541.01 [D-Real: 1267.53 D-Fake: -1827.59]\n",
            "Epoch 095 | ET 132.49 min | Avg Losses >> G/D 3220.07/-925.15 [D-Real: 2262.03 D-Fake: -3220.07]\n",
            "Epoch 096 | ET 133.88 min | Avg Losses >> G/D 2380.80/-756.95 [D-Real: 1591.08 D-Fake: -2380.80]\n",
            "Epoch 097 | ET 135.30 min | Avg Losses >> G/D 3551.74/-1021.53 [D-Real: 2472.14 D-Fake: -3551.74]\n",
            "Epoch 098 | ET 136.71 min | Avg Losses >> G/D 3831.96/-1151.24 [D-Real: 2616.00 D-Fake: -3831.96]\n",
            "Epoch 099 | ET 138.14 min | Avg Losses >> G/D 4033.54/-1180.33 [D-Real: 2727.80 D-Fake: -4033.54]\n",
            "Epoch 100 | ET 139.57 min | Avg Losses >> G/D 4356.81/-1397.06 [D-Real: 2903.08 D-Fake: -4356.81]\n"
          ],
          "name": "stdout"
        }
      ]
    },
    {
      "cell_type": "code",
      "metadata": {
        "id": "EanCVL2UefJ7",
        "colab_type": "code",
        "outputId": "74c298f0-3c37-4290-9b96-3364357fe1b0",
        "colab": {
          "base_uri": "https://localhost:8080/",
          "height": 783
        }
      },
      "source": [
        "selected_epochs = [1,2,4,10,50,100]\n",
        "fig = plt.figure(figsize=(10, 14))\n",
        "for i,e in enumerate(selected_epochs):\n",
        "  for j in range(5):\n",
        "    ax = fig.add_subplot(6, 5, i*5+j+1)\n",
        "    ax.set_xticks([])\n",
        "    ax.set_yticks([])\n",
        "    if j == 0:\n",
        "      ax.text(-0.06, 0.5, 'Epoch {}'.format(e),\n",
        "              rotation=90, size=18, color='red',\n",
        "              horizontalalignment='right',\n",
        "              verticalalignment='center',\n",
        "              transform=ax.transAxes)\n",
        "    image = epoch_samples[e-1][j]\n",
        "    ax.imshow(image, cmap='gray_r')\n",
        "\n",
        "plt.show()"
      ],
      "execution_count": 0,
      "outputs": [
        {
          "output_type": "display_data",
          "data": {
            "image/png": "[encoded data removed]",
            "text/plain": [
              "<Figure size 720x1008 with 30 Axes>"
            ]
          },
          "metadata": {
            "tags": []
          }
        }
      ]
    },
    {
      "cell_type": "markdown",
      "metadata": {
        "id": "QmoaaLKtDsoH",
        "colab_type": "text"
      },
      "source": [
        "As we can see from above that compared to vanilla GAN, the new examples shows that DCGAN(with Wasserstein and GP) can generate images of a much higher quality."
      ]
    }
  ]
}